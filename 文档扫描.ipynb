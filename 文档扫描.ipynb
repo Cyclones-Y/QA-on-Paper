{
 "cells": [
  {
   "cell_type": "code",
   "execution_count": 1,
   "outputs": [],
   "source": [
    "import base64\n",
    "import io\n",
    "import urllib\n",
    "import requests\n",
    "import gradio as gr\n",
    "from urllib.parse import urlencode\n",
    "API_KEY = \"pS3lZ4yHm\"\n",
    "SECRET_KEY = \"XcZX11De\"\n",
    "\n",
    "def get_access_token():\n",
    "    \"\"\"\n",
    "    使用 AK，SK 生成鉴权签名（Access Token）\n",
    "    :return: access_token，或是None(如果错误)\n",
    "    \"\"\"\n",
    "    url = \"https://aip.baidubce.com/oauth/2.0/token\"\n",
    "    params = {\"grant_type\": \"client_credentials\", \"client_id\": API_KEY, \"client_secret\": SECRET_KEY}\n",
    "    return str(requests.post(url, params=params).json().get(\"access_token\"))"
   ],
   "metadata": {
    "collapsed": false,
    "ExecuteTime": {
     "end_time": "2023-12-16T03:32:14.269073400Z",
     "start_time": "2023-12-16T03:32:06.181139600Z"
    }
   },
   "id": "7321d490a09db6af"
  },
  {
   "cell_type": "markdown",
   "source": [
    "## Gradio网页版"
   ],
   "metadata": {
    "collapsed": false
   },
   "id": "6f388c9c3e64dccc"
  },
  {
   "cell_type": "code",
   "execution_count": null,
   "outputs": [],
   "source": [
    "def main(image):\n",
    "    url = \"https://aip.baidubce.com/rest/2.0/ocr/v1/doc_analysis_office?access_token=\" + get_access_token()\n",
    "\n",
    "    # image 可以通过 get_file_content_as_base64(\"C:\\fakepath\\手写字1.jpg\",True) 方法获取\n",
    "    image_base64 = get_file_content_as_base64(image, True)\n",
    "\n",
    "    payload = 'image=' + image_base64 + ('&detect_direction=true&line_probability=false&disp_line_poly=false'\n",
    "                                         '&layout_analysis=false&recg_tables=true&recog_seal=true'\n",
    "                                         '&recg_formula=true&erase_seal=true&disp_underline_analysis=true')\n",
    "\n",
    "    headers = {\n",
    "        'Content-Type': 'application/x-www-form-urlencoded',\n",
    "        'Accept': 'application/json'\n",
    "    }\n",
    "\n",
    "    response = requests.request(\"POST\", url, headers=headers, data=payload)\n",
    "    word_text = response.json()\n",
    "    wordlist = []\n",
    "    for item in word_text['results']:\n",
    "        wordlist += item['words']['word']\n",
    "    complete_sentence = ''.join(wordlist)\n",
    "    return complete_sentence\n",
    "\n",
    "\n",
    "def get_file_content_as_base64(image, urlencoded=False):\n",
    "    buffered = io.BytesIO()\n",
    "    image.save(buffered, format='JPEG')\n",
    "    content = base64.b64encode(buffered.getvalue()).decode(\"utf8\")\n",
    "    if urlencoded:\n",
    "        content = urllib.parse.quote_plus(content)\n",
    "    return content\n",
    "\n",
    "\n",
    "\n",
    "\n",
    "# 创建Gradio界面\n",
    "iface = gr.Interface(\n",
    "    fn=main,\n",
    "    inputs=gr.Image(type='pil', label='上传图片'),\n",
    "    outputs='text',\n",
    "    title='文档扫描'\n",
    ")\n",
    "iface.launch(share=True)\n"
   ],
   "metadata": {
    "collapsed": false
   },
   "id": "f97c38eb4778d727"
  },
  {
   "cell_type": "markdown",
   "source": [
    "## 启用网站，提取文字"
   ],
   "metadata": {
    "collapsed": false
   },
   "id": "c0c04bc9dceca1db"
  },
  {
   "cell_type": "code",
   "execution_count": 21,
   "outputs": [
    {
     "name": "stdout",
     "output_type": "stream",
     "text": [
      "Running on local URL:  http://127.0.0.1:7862\n",
      "Running on public URL: https://64e1606e4a5ec1375d.gradio.live\n",
      "\n",
      "This share link expires in 72 hours. For free permanent hosting and GPU upgrades, run `gradio deploy` from Terminal to deploy to Spaces (https://huggingface.co/spaces)\n"
     ]
    },
    {
     "data": {
      "text/plain": "<IPython.core.display.HTML object>",
      "text/html": "<div><iframe src=\"https://64e1606e4a5ec1375d.gradio.live\" width=\"100%\" height=\"500\" allow=\"autoplay; camera; microphone; clipboard-read; clipboard-write;\" frameborder=\"0\" allowfullscreen></iframe></div>"
     },
     "metadata": {},
     "output_type": "display_data"
    },
    {
     "data": {
      "text/plain": ""
     },
     "execution_count": 21,
     "metadata": {},
     "output_type": "execute_result"
    }
   ],
   "source": [
    "import requests\n",
    "from PIL import Image, ImageDraw, ImageFont\n",
    "import json\n",
    "import gradio as gr\n",
    "\n",
    "def get_path_base64(path, urlencoded=False):\n",
    "    \"\"\"\n",
    "    获取文件base64编码\n",
    "    :param path: 文件路径\n",
    "    :param urlencoded: 是否对结果进行urlencoded \n",
    "    :return: base64编码信息\n",
    "    \"\"\"\n",
    "    with open(path, \"rb\") as f:\n",
    "        content = base64.b64encode(f.read()).decode(\"utf8\")\n",
    "        if urlencoded:\n",
    "            content = urllib.parse.quote_plus(content)\n",
    "    return content\n",
    "\n",
    "\n",
    "def word_main(path):\n",
    "    url = \"https://aip.baidubce.com/rest/2.0/ocr/v1/doc_analysis_office?access_token=\" + get_access_token()\n",
    "\n",
    "    \n",
    "    # 获取图像的base64\n",
    "    base64_data = wenxin_get_path_base64(path, False)\n",
    "    \n",
    "    # 参数设定\n",
    "    payload = {\n",
    "        'image':base64_data,\n",
    "        # 是否检测图像朝向.\n",
    "        'detect_direction':'true',\n",
    "        # 是否返回每行识别结果的置信度\n",
    "        'line_probability':'false',\n",
    "        # 是否返回每行的四角点坐标。\n",
    "        'disp_line_poly':'true',\n",
    "        # 文字类型，手写印刷混排识别。\n",
    "        'words_type':'handprint_mix',\n",
    "        # 是否分析文档版面\n",
    "        'layout_analysis':'false',\n",
    "        # 是否识别并输出表格相关信息，包括单元格内容。\n",
    "        'recg_tables':'true',\n",
    "        # 是否识别并输出印章信息\n",
    "        'recog_seal':'false',\n",
    "        # 是否识别公式，公式以Latex格式返回\n",
    "        'recg_formula':'false',\n",
    "        # 是否擦除水印\n",
    "        'erase_seal':'false',\n",
    "        # 是否识别并输出下划线\n",
    "        'disp_underline_analysis':'false'}\n",
    "    encode_payload = urlencode(payload)\n",
    "    \n",
    "    headers = {\n",
    "        'Content-Type': 'application/x-www-form-urlencoded',\n",
    "        'Accept': 'application/json'\n",
    "    }\n",
    "    \n",
    "    response = requests.request(\"POST\", url, headers=headers, data=encode_payload)\n",
    "    # 检查请求是否成功\n",
    "    response.raise_for_status()\n",
    "    # 解析JSON响应\n",
    "    word_data = response.json()\n",
    "    word_boxes = [(item['words']['word'], item['words']['poly_location']) for item in word_data['results']]\n",
    "    return word_boxes[0]\n",
    "    \n",
    "    # word_data = response.json()\n",
    "    # word_list = ''\n",
    "    # for item in word_data['results']:\n",
    "    #     word_list += item['words']['word']\n",
    "    # convert_data = ''.join(word_list)\n",
    "    # return convert_data\n",
    "\n",
    "# \n",
    "def draw_words_on_image(image_path, word_boxes):\n",
    "    # 打开图像\n",
    "    image = Image.open(image_path)\n",
    "    draw = ImageDraw.Draw(image)\n",
    "    \n",
    "    # 设置字体大小\n",
    "    font = ImageFont.truetype(\"simsun.ttc\", 12)  # 确保字体文件路径正确\n",
    "\n",
    "    # 在图像上绘制单词\n",
    "    for word, box in word_boxes:\n",
    "        # 获取边界框的左上角\n",
    "        top_left = box[0]\n",
    "        # 绘制文本\n",
    "        draw.text((top_left['x'], top_left['y']), word, font=font, fill=(0, 0, 0))\n",
    "    \n",
    "    # 返回处理后的图像\n",
    "    return image\n",
    "\n",
    "def process_image(image):\n",
    "    # 将 PIL 图像保存到临时文件\n",
    "    image_path = \"temp_image.png\"\n",
    "    image.save(image_path)\n",
    "    \n",
    "    # 使用 word_main 函数处理图片\n",
    "    word_boxes = word_main(image_path)\n",
    "\n",
    "    # 在原图上绘制识别出的文字并获取修改后的图像\n",
    "    processed_image = draw_words_on_image(image_path, word_boxes)\n",
    "\n",
    "    # 返回处理后的图像\n",
    "    return processed_image\n",
    "\n",
    "\n",
    "# 创建 Gradio 界面\n",
    "iface = gr.Interface(\n",
    "    fn=process_image,\n",
    "    inputs=gr.Image(type=\"pil\"),\n",
    "    outputs=gr.Image(type=\"pil\"),\n",
    "    title=\"OCR 文字识别\",\n",
    "    description=\"上传一张图片，识别图片中的文字并在相同位置上显示识别出的文字。\"\n",
    ")\n",
    "\n",
    "# 启动 Gradio 网页界面\n",
    "iface.launch(share=True)"
   ],
   "metadata": {
    "collapsed": false,
    "ExecuteTime": {
     "end_time": "2023-12-16T06:54:34.585829200Z",
     "start_time": "2023-12-16T06:54:23.923229Z"
    }
   },
   "id": "90e8c787afa32147"
  },
  {
   "cell_type": "markdown",
   "source": [
    "## 调用文心一言 概括文章内容，实现流式输出"
   ],
   "metadata": {
    "collapsed": false
   },
   "id": "fd582c6627412af7"
  },
  {
   "cell_type": "code",
   "execution_count": 73,
   "outputs": [
    {
     "name": "stdout",
     "output_type": "stream",
     "text": [
      "Running on local URL:  http://127.0.0.1:7877\n",
      "Running on public URL: https://b34ec4a05bb18e2690.gradio.live\n",
      "\n",
      "This share link expires in 72 hours. For free permanent hosting and GPU upgrades, run `gradio deploy` from Terminal to deploy to Spaces (https://huggingface.co/spaces)\n"
     ]
    },
    {
     "data": {
      "text/plain": "<IPython.core.display.HTML object>",
      "text/html": "<div><iframe src=\"https://b34ec4a05bb18e2690.gradio.live\" width=\"100%\" height=\"500\" allow=\"autoplay; camera; microphone; clipboard-read; clipboard-write;\" frameborder=\"0\" allowfullscreen></iframe></div>"
     },
     "metadata": {},
     "output_type": "display_data"
    },
    {
     "data": {
      "text/plain": ""
     },
     "execution_count": 73,
     "metadata": {},
     "output_type": "execute_result"
    }
   ],
   "source": [
    "import time\n",
    "import requests\n",
    "from PIL import Image, ImageDraw, ImageFont\n",
    "import json\n",
    "import gradio as gr\n",
    "\n",
    "# 填写\n",
    "API_KEY_wenxin = \"vxQOoOXPpMIM66yaaGhDd69Y\"\n",
    "SECRET_KEY_wenxin = \"Nbt4lY5KCMaDp0F3oe8wsEt2Gketx8rP\"\n",
    "\n",
    "\n",
    "\n",
    "def wenxin_get_path_base64(image, urlencoded=False):\n",
    "    buffered = io.BytesIO()\n",
    "    image.save(buffered, format=\"JPEG\")\n",
    "    content = base64.b64encode(buffered.getvalue()).decode(\"utf8\")\n",
    "    if urlencoded:\n",
    "        content = urllib.parse.quote_plus(content)\n",
    "    return content\n",
    "\n",
    "\n",
    "def wenxin_word_main(image):\n",
    "    url = \"https://aip.baidubce.com/rest/2.0/ocr/v1/doc_analysis_office?access_token=\" + get_access_token()\n",
    "\n",
    "\n",
    "    # 获取图像的base64\n",
    "    base64_data = wenxin_get_path_base64(image, False)\n",
    "\n",
    "    # 参数设定\n",
    "    payload = {\n",
    "        'image':base64_data,\n",
    "        # 是否检测图像朝向.\n",
    "        'detect_direction':'true',\n",
    "        # 是否返回每行识别结果的置信度\n",
    "        'line_probability':'false',\n",
    "        # 是否返回每行的四角点坐标。\n",
    "        'disp_line_poly':'true',\n",
    "        # 文字类型，手写印刷混排识别。\n",
    "        'words_type':'handprint_mix',\n",
    "        # 是否分析文档版面\n",
    "        'layout_analysis':'false',\n",
    "        # 是否识别并输出表格相关信息，包括单元格内容。\n",
    "        'recg_tables':'true',\n",
    "        # 是否识别并输出印章信息\n",
    "        'recog_seal':'false',\n",
    "        # 是否识别公式，公式以Latex格式返回\n",
    "        'recg_formula':'false',\n",
    "        # 是否擦除水印\n",
    "        'erase_seal':'false',\n",
    "        # 是否识别并输出下划线\n",
    "        'disp_underline_analysis':'false'}\n",
    "    encode_payload = urlencode(payload)\n",
    "\n",
    "    headers = {\n",
    "        'Content-Type': 'application/x-www-form-urlencoded',\n",
    "        'Accept': 'application/json'\n",
    "    }\n",
    "\n",
    "    response = requests.request(\"POST\", url, headers=headers, data=encode_payload)\n",
    "    # 检查请求是否成功\n",
    "    response.raise_for_status()\n",
    "    # 解析JSON响应\n",
    "    word_data = response.json()\n",
    "    word_boxes = []\n",
    "    for item in word_data[\"results\"]:\n",
    "        word_boxes += item['words']['word']\n",
    "    complete_sentence = ''.join(word_boxes)\n",
    "    return complete_sentence\n",
    "\n",
    "\n",
    "def get_access_token_wenxin():\n",
    "    \"\"\"\n",
    "    使用 AK，SK 生成鉴权签名（Access Token）\n",
    "    :return: access_token，或是None(如果错误)\n",
    "    \"\"\"\n",
    "    url = \"https://aip.baidubce.com/oauth/2.0/token\"\n",
    "    params = {\"grant_type\": \"client_credentials\", \"client_id\": API_KEY_wenxin, \"client_secret\": SECRET_KEY_wenxin}\n",
    "    return str(requests.post(url, params=params).json().get(\"access_token\"))\n",
    "\n",
    "\n",
    "\n",
    "def main_wenxin(image):\n",
    "\n",
    "    url = \"https://aip.baidubce.com/rpc/2.0/ai_custom/v1/wenxinworkshop/chat/completions_pro?access_token=\" + get_access_token_wenxin()\n",
    "\n",
    "    payload = json.dumps({\n",
    "        \"messages\": [\n",
    "            {\n",
    "                \"role\": \"user\",\n",
    "                \"content\": wenxin_word_main(image)\n",
    "            }\n",
    "        ],\n",
    "        \"system\":'根据我给你的内容，概括总结',\n",
    "        \"stream\": True\n",
    "    })\n",
    "    headers = {\n",
    "        'Content-Type': 'application/json'\n",
    "    }\n",
    "\n",
    "    response = requests.request(\"POST\", url, headers=headers, data=payload, stream=True)\n",
    "    \n",
    "    # # wenxin_response = response.json()\n",
    "    # for line in response.iter_lines():\n",
    "    #     if line:\n",
    "    #         json_str = line.decode('utf-8').split('data: ', 1)[-1]\n",
    "    # \n",
    "    #         try:\n",
    "    #             json_data = json.loads(json_str)\n",
    "    #             result = json_data.get('result', '')\n",
    "    #             if result:\n",
    "    #                 yield result  # 一次性输出整个字符串\n",
    "    #         except json.JSONDecodeError as e:\n",
    "    #             yield \"JSON 解析错误: \" + str(e)\n",
    "    accumulated_text = \"\"  # 用于累积接收到的文本\n",
    "    for line in response.iter_lines():\n",
    "        if line:\n",
    "            json_str = line.decode('utf-8').split('data: ', 1)[-1]\n",
    "            # 加载json格式\n",
    "            json_data = json.loads(json_str)\n",
    "            result = json_data.get('result', '')\n",
    "                # 将新文本添加到累积文本中\n",
    "            accumulated_text += result + \"\\n\"\n",
    "            yield accumulated_text \n",
    "# # 流式输出成功输出\n",
    "#     all_text = \"\"  # 用于累积所有文本\n",
    "#     for line in response.iter_lines():\n",
    "#         if line:\n",
    "#             json_str = line.decode('utf-8').split('data: ', 1)[-1]\n",
    "#             # 加载json格式\n",
    "#             json_data = json.loads(json_str)\n",
    "#             result = json_data.get('result', '')\n",
    "#             if result:\n",
    "#                 all_text += result + \"\\n\"  # 将每一行的结果添加到累积文本中\n",
    "#         yield all_text\n",
    "iface = gr.Interface(\n",
    "    fn=main_wenxin,\n",
    "    inputs=gr.Image(type=\"pil\", label=\"上传图片\"),\n",
    "    outputs=gr.Textbox(lines=10),  # 自适应大小的文本框\n",
    "    title=\"概括文章内容\"\n",
    ")\n",
    "\n",
    "iface.launch(share=True)"
   ],
   "metadata": {
    "collapsed": false,
    "ExecuteTime": {
     "end_time": "2023-12-16T10:30:31.537170700Z",
     "start_time": "2023-12-16T10:30:14.375099Z"
    }
   },
   "id": "f251a591e8f2362d"
  },
  {
   "cell_type": "code",
   "execution_count": 58,
   "outputs": [
    {
     "name": "stdout",
     "output_type": "stream",
     "text": [
      "1.场景：问路prompt:你是A/公司制作的A/助手小艺。你是一名英语老师正在教我在特定的场景下进行对话，现在请你扮演向导与我对话，请你同时使用英文和中文对我的问题进行解答。2.场景：入住酒店prompt:你是A/公司制作的A/助手小艺。你是一名英语老师正在教我在特定的场景下进行对话，现在请你扮演一名酒店的前台与我对话，请你同时使用英文和中文与我交流以帮助我提高英语水平。在交流的过程中如果询问了你的身份，请你说你是一名酒店前台。你的每次输出都必须要包含英文。示例：0\n"
     ]
    }
   ],
   "source": [],
   "metadata": {
    "collapsed": false,
    "ExecuteTime": {
     "end_time": "2023-12-16T09:01:29.785927700Z",
     "start_time": "2023-12-16T09:01:26.102340400Z"
    }
   },
   "id": "1c949b11860fec72"
  }
 ],
 "metadata": {
  "kernelspec": {
   "display_name": "Python 3",
   "language": "python",
   "name": "python3"
  },
  "language_info": {
   "codemirror_mode": {
    "name": "ipython",
    "version": 2
   },
   "file_extension": ".py",
   "mimetype": "text/x-python",
   "name": "python",
   "nbconvert_exporter": "python",
   "pygments_lexer": "ipython2",
   "version": "2.7.6"
  }
 },
 "nbformat": 4,
 "nbformat_minor": 5
}
